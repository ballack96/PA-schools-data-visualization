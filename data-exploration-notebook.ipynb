{
 "cells": [
  {
   "cell_type": "markdown",
   "metadata": {},
   "source": [
    "## Pennsylvania School Data \n",
    "\n",
    "- The data was obatained from the data: https://data.pa.gov/"
   ]
  },
  {
   "cell_type": "markdown",
   "metadata": {},
   "source": [
    "#### Import libraries"
   ]
  },
  {
   "cell_type": "code",
   "execution_count": 5,
   "metadata": {},
   "outputs": [],
   "source": [
    "import requests\n",
    "import pandas as pd"
   ]
  },
  {
   "cell_type": "code",
   "execution_count": 6,
   "metadata": {},
   "outputs": [
    {
     "name": "stdout",
     "output_type": "stream",
     "text": [
      "                          institution_name administrative_unit_aun  \\\n",
      "0              AAA School of Trucking, Inc               426510819   \n",
      "1             AAA School of Trucking, Inc.               415228149   \n",
      "2       Academy for Media Production (The)               412015229   \n",
      "3  Academy of Investigation and Protection               427041279   \n",
      "4   Academy of Massage Therapy & Bodyworks               423461299   \n",
      "\n",
      "  school_branch                 category status phone_number  \\\n",
      "0          0000  Private Licensed School   Open   2673245957   \n",
      "1          0000  Private Licensed School   Open   7176523652   \n",
      "2          0000  Private Licensed School   Open   7173344487   \n",
      "3          0000  Private Licensed School   Open   7247757970   \n",
      "4          0000  Private Licensed School   Open   6104685497   \n",
      "\n",
      "                           web_address        county           city  \\\n",
      "0   http://www.aaaschooloftrucking.com  Philadelphia   Philadelphia   \n",
      "1  http://www.aaaschooloftrucking.com/       Dauphin     Harrisburg   \n",
      "2              https://amp-school.com/         Adams  McSherrystown   \n",
      "3                                  NaN        Beaver         Monaca   \n",
      "4     http://www.massage-training.net/    Montgomery      Pottstown   \n",
      "\n",
      "     primary_administrator school_year phone_number_extn  \n",
      "0         Mr Ryan A Soloby      SY2021               NaN  \n",
      "1       Ms Susan     First      SY2021               NaN  \n",
      "2  Mr Paul T Chiacchierini      SY2021               NaN  \n",
      "3       Mr Louis W Gentile      SY2021               NaN  \n",
      "4    Ms Angela  Pio Wagner      SY2021               NaN  \n"
     ]
    }
   ],
   "source": [
    "# URL of the data\n",
    "url = \"https://data.pa.gov/resource/dtvt-jb9p.json\"\n",
    "\n",
    "# Fetch the data from the URL\n",
    "response = requests.get(url)\n",
    "\n",
    "# Check if the request was successful\n",
    "if response.status_code == 200:\n",
    "    # Convert the JSON data to a Pandas DataFrame\n",
    "    data = pd.DataFrame(response.json())\n",
    "    print(data.head())  # Print the first few rows of the data\n",
    "else:\n",
    "    print(f\"Failed to fetch data. Status code: {response.status_code}\")"
   ]
  },
  {
   "cell_type": "code",
   "execution_count": 11,
   "metadata": {},
   "outputs": [
    {
     "name": "stdout",
     "output_type": "stream",
     "text": [
      "First few rows of the dataset:\n"
     ]
    },
    {
     "data": {
      "text/html": [
       "<div>\n",
       "<style scoped>\n",
       "    .dataframe tbody tr th:only-of-type {\n",
       "        vertical-align: middle;\n",
       "    }\n",
       "\n",
       "    .dataframe tbody tr th {\n",
       "        vertical-align: top;\n",
       "    }\n",
       "\n",
       "    .dataframe thead th {\n",
       "        text-align: right;\n",
       "    }\n",
       "</style>\n",
       "<table border=\"1\" class=\"dataframe\">\n",
       "  <thead>\n",
       "    <tr style=\"text-align: right;\">\n",
       "      <th></th>\n",
       "      <th>institution_name</th>\n",
       "      <th>administrative_unit_aun</th>\n",
       "      <th>school_branch</th>\n",
       "      <th>category</th>\n",
       "      <th>status</th>\n",
       "      <th>phone_number</th>\n",
       "      <th>web_address</th>\n",
       "      <th>county</th>\n",
       "      <th>city</th>\n",
       "      <th>primary_administrator</th>\n",
       "      <th>school_year</th>\n",
       "      <th>phone_number_extn</th>\n",
       "    </tr>\n",
       "  </thead>\n",
       "  <tbody>\n",
       "    <tr>\n",
       "      <th>0</th>\n",
       "      <td>AAA School of Trucking, Inc</td>\n",
       "      <td>426510819</td>\n",
       "      <td>0000</td>\n",
       "      <td>Private Licensed School</td>\n",
       "      <td>Open</td>\n",
       "      <td>2673245957</td>\n",
       "      <td>http://www.aaaschooloftrucking.com</td>\n",
       "      <td>Philadelphia</td>\n",
       "      <td>Philadelphia</td>\n",
       "      <td>Mr Ryan A Soloby</td>\n",
       "      <td>SY2021</td>\n",
       "      <td>NaN</td>\n",
       "    </tr>\n",
       "    <tr>\n",
       "      <th>1</th>\n",
       "      <td>AAA School of Trucking, Inc.</td>\n",
       "      <td>415228149</td>\n",
       "      <td>0000</td>\n",
       "      <td>Private Licensed School</td>\n",
       "      <td>Open</td>\n",
       "      <td>7176523652</td>\n",
       "      <td>http://www.aaaschooloftrucking.com/</td>\n",
       "      <td>Dauphin</td>\n",
       "      <td>Harrisburg</td>\n",
       "      <td>Ms Susan     First</td>\n",
       "      <td>SY2021</td>\n",
       "      <td>NaN</td>\n",
       "    </tr>\n",
       "    <tr>\n",
       "      <th>2</th>\n",
       "      <td>Academy for Media Production (The)</td>\n",
       "      <td>412015229</td>\n",
       "      <td>0000</td>\n",
       "      <td>Private Licensed School</td>\n",
       "      <td>Open</td>\n",
       "      <td>7173344487</td>\n",
       "      <td>https://amp-school.com/</td>\n",
       "      <td>Adams</td>\n",
       "      <td>McSherrystown</td>\n",
       "      <td>Mr Paul T Chiacchierini</td>\n",
       "      <td>SY2021</td>\n",
       "      <td>NaN</td>\n",
       "    </tr>\n",
       "    <tr>\n",
       "      <th>3</th>\n",
       "      <td>Academy of Investigation and Protection</td>\n",
       "      <td>427041279</td>\n",
       "      <td>0000</td>\n",
       "      <td>Private Licensed School</td>\n",
       "      <td>Open</td>\n",
       "      <td>7247757970</td>\n",
       "      <td>NaN</td>\n",
       "      <td>Beaver</td>\n",
       "      <td>Monaca</td>\n",
       "      <td>Mr Louis W Gentile</td>\n",
       "      <td>SY2021</td>\n",
       "      <td>NaN</td>\n",
       "    </tr>\n",
       "    <tr>\n",
       "      <th>4</th>\n",
       "      <td>Academy of Massage Therapy &amp; Bodyworks</td>\n",
       "      <td>423461299</td>\n",
       "      <td>0000</td>\n",
       "      <td>Private Licensed School</td>\n",
       "      <td>Open</td>\n",
       "      <td>6104685497</td>\n",
       "      <td>http://www.massage-training.net/</td>\n",
       "      <td>Montgomery</td>\n",
       "      <td>Pottstown</td>\n",
       "      <td>Ms Angela  Pio Wagner</td>\n",
       "      <td>SY2021</td>\n",
       "      <td>NaN</td>\n",
       "    </tr>\n",
       "  </tbody>\n",
       "</table>\n",
       "</div>"
      ],
      "text/plain": [
       "                          institution_name administrative_unit_aun  \\\n",
       "0              AAA School of Trucking, Inc               426510819   \n",
       "1             AAA School of Trucking, Inc.               415228149   \n",
       "2       Academy for Media Production (The)               412015229   \n",
       "3  Academy of Investigation and Protection               427041279   \n",
       "4   Academy of Massage Therapy & Bodyworks               423461299   \n",
       "\n",
       "  school_branch                 category status phone_number  \\\n",
       "0          0000  Private Licensed School   Open   2673245957   \n",
       "1          0000  Private Licensed School   Open   7176523652   \n",
       "2          0000  Private Licensed School   Open   7173344487   \n",
       "3          0000  Private Licensed School   Open   7247757970   \n",
       "4          0000  Private Licensed School   Open   6104685497   \n",
       "\n",
       "                           web_address        county           city  \\\n",
       "0   http://www.aaaschooloftrucking.com  Philadelphia   Philadelphia   \n",
       "1  http://www.aaaschooloftrucking.com/       Dauphin     Harrisburg   \n",
       "2              https://amp-school.com/         Adams  McSherrystown   \n",
       "3                                  NaN        Beaver         Monaca   \n",
       "4     http://www.massage-training.net/    Montgomery      Pottstown   \n",
       "\n",
       "     primary_administrator school_year phone_number_extn  \n",
       "0         Mr Ryan A Soloby      SY2021               NaN  \n",
       "1       Ms Susan     First      SY2021               NaN  \n",
       "2  Mr Paul T Chiacchierini      SY2021               NaN  \n",
       "3       Mr Louis W Gentile      SY2021               NaN  \n",
       "4    Ms Angela  Pio Wagner      SY2021               NaN  "
      ]
     },
     "execution_count": 11,
     "metadata": {},
     "output_type": "execute_result"
    }
   ],
   "source": [
    "# Display the first few rows of the DataFrame\n",
    "print(\"First few rows of the dataset:\")\n",
    "data.head()"
   ]
  },
  {
   "cell_type": "code",
   "execution_count": 15,
   "metadata": {},
   "outputs": [
    {
     "data": {
      "text/plain": [
       "institution_name                                           administrative_unit_aun  school_branch  category                               status  phone_number  web_address                                                              county        city           primary_administrator                              school_year  phone_number_extn\n",
       "Blessings Center for Technical Arts and Sciences, LLC      426517009                0000           Private Licensed School                Open    2678667300    https://www.blessings-tech.com                                           Philadelphia  Philadelphia   Ms Courtney D Marshall MBA, MSN-RN, Director       SY2122       1815                 1\n",
       "EPAM UpSkill                                               422096039                0000           Private Licensed School                Open    2677599000    http://upskill.learn.epam.com                                            Bucks         Newtown        Ms Ashley   Means , Director                       SY2122       49976                1\n",
       "Penn College of Technology/Wentzel Lumley Aviation Center  417417801                0001           State-Related Commonwealth University  Open    5703263761    https://www.pct.edu/visit/campus/kathryn-wentzel-lumley-aviation-center  Lycoming      Montoursville  Dr Davie Jane   Gilmour , Chief Executive Officer  SY2122       3629                 1\n",
       "Training Camp (The)                                        420452269                0000           Private Licensed School                Open    8006985501    http://www.trainingcamp.com                                              Bucks         Trevose        Mr Mark       A Uhlman                             SY2021       2201                 1\n",
       "                                                                                                                                                                                                                                                                      Mr Mark A Uhlman , Chief Executive Officer         SY2122       2201                 1\n",
       "Name: count, dtype: int64"
      ]
     },
     "execution_count": 15,
     "metadata": {},
     "output_type": "execute_result"
    }
   ],
   "source": [
    "data.value_counts()"
   ]
  }
 ],
 "metadata": {
  "kernelspec": {
   "display_name": ".venv",
   "language": "python",
   "name": "python3"
  },
  "language_info": {
   "codemirror_mode": {
    "name": "ipython",
    "version": 3
   },
   "file_extension": ".py",
   "mimetype": "text/x-python",
   "name": "python",
   "nbconvert_exporter": "python",
   "pygments_lexer": "ipython3",
   "version": "3.12.3"
  }
 },
 "nbformat": 4,
 "nbformat_minor": 2
}
